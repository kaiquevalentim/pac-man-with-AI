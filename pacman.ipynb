{
 "cells": [
  {
   "cell_type": "code",
   "execution_count": 4,
   "id": "218c6eb6",
   "metadata": {},
   "outputs": [],
   "source": [
    "field_easy = [  # 0 = empty, 1 = food, 2 = wall, 3 = pacman\n",
    "    [3, 1, 1, 1],\n",
    "    [0, 2, 2, 1],\n",
    "    [0, 1, 2, 1],\n",
    "    [0, 0, 0, 1],\n",
    "]\n",
    "\n",
    "field_medium = [\n",
    "    [3, 1, 1, 2, 1],\n",
    "    [0, 2, 1, 2, 1],\n",
    "    [1, 2, 1, 1, 1],\n",
    "    [1, 1, 2, 2, 1],\n",
    "    [0, 1, 1, 1, 1],\n",
    "]\n",
    "\n",
    "field_hard = [\n",
    "    [3, 2, 1, 1, 2, 1],\n",
    "    [1, 2, 0, 2, 2, 1],\n",
    "    [1, 1, 1, 0, 1, 1],\n",
    "    [2, 2, 1, 2, 1, 2],\n",
    "    [1, 0, 1, 1, 1, 1],\n",
    "    [1, 2, 2, 2, 2, 1],\n",
    "]\n",
    "\n",
    "field_very_hard = [\n",
    "    [3, 2, 1, 2, 1, 2, 1],\n",
    "    [1, 2, 0, 2, 0, 2, 1],\n",
    "    [1, 1, 1, 1, 1, 2, 1],\n",
    "    [2, 2, 2, 2, 1, 2, 1],\n",
    "    [1, 0, 0, 1, 1, 1, 1],\n",
    "    [1, 2, 2, 2, 2, 2, 1],\n",
    "    [1, 1, 1, 1, 1, 1, 1],\n",
    "]\n",
    "\n",
    "fields = [field_easy, field_medium, field_hard, field_very_hard]"
   ]
  },
  {
   "cell_type": "markdown",
   "id": "5caa7962",
   "metadata": {},
   "source": [
    "# Definição de classes"
   ]
  },
  {
   "cell_type": "code",
   "execution_count": null,
   "id": "92baba9e",
   "metadata": {},
   "outputs": [],
   "source": [
    "class PacMan:\n",
    "    def __init__(self, field, x_pos=0, y_pos=0, direction='right'):\n",
    "        self.x_pos = x_pos\n",
    "        self.y_pos = y_pos\n",
    "        self.direction = direction\n",
    "        self.field = field\n",
    "\n",
    "    def move(self):\n",
    "        self.field[self.y_pos][self.x_pos] = 0\n",
    "\n",
    "        if self.direction == 'right' and self.x_pos + 1 < len(self.field[0]):\n",
    "            if self.field[self.y_pos][self.x_pos + 1] != 2:\n",
    "                self.x_pos += 1\n",
    "        elif self.direction == 'left' and self.x_pos - 1 >= 0:\n",
    "            if self.field[self.y_pos][self.x_pos - 1] != 2:\n",
    "                self.x_pos -= 1\n",
    "        elif self.direction == 'up' and self.y_pos - 1 >= 0:\n",
    "            if self.field[self.y_pos - 1][self.x_pos] != 2:\n",
    "                self.y_pos -= 1\n",
    "        elif self.direction == 'down' and self.y_pos + 1 < len(self.field):\n",
    "            if self.field[self.y_pos + 1][self.x_pos] != 2:\n",
    "                self.y_pos += 1\n",
    "\n",
    "        has_food = self.field[self.y_pos][self.x_pos] == 1\n",
    "\n",
    "        self.field[self.y_pos][self.x_pos] = 3\n",
    "\n",
    "        return has_food\n",
    "\n",
    "    def __str__(self):\n",
    "        return f\"PacMan is at ({self.x_pos}, {self.y_pos})\"\n",
    "\n",
    "\n",
    "class Node:\n",
    "    def __init__(self, field, father, x_pos, y_pos, depth=0):\n",
    "        self.depth = depth\n",
    "        self.field = field\n",
    "        self.father = father\n",
    "        self.x_pos = x_pos\n",
    "        self.y_pos = y_pos\n",
    "\n",
    "    def generate_next_nodes(self, prune=True):\n",
    "        next_nodes = []\n",
    "        for direction in ['right', 'left', 'up', 'down']:\n",
    "            new_field = [row[:] for row in self.field]\n",
    "            current_pos = self.x_pos, self.y_pos\n",
    "            pacman = PacMan(new_field, self.x_pos, self.y_pos, direction)\n",
    "            has_food = pacman.move()\n",
    "\n",
    "            if pacman.x_pos == current_pos[0] and pacman.y_pos == current_pos[1]:\n",
    "                continue\n",
    "\n",
    "            new_field = pacman.field\n",
    "            if has_food:\n",
    "                next_nodes.insert(\n",
    "                    0, Node(new_field, self, pacman.x_pos, pacman.y_pos, self.depth + 1))\n",
    "            else:\n",
    "                next_nodes.append(\n",
    "                    Node(new_field, self, pacman.x_pos, pacman.y_pos, self.depth + 1))\n",
    "        return next_nodes\n",
    "\n",
    "    def generate_backtrack_nodes(self, reference_field, prune=True):\n",
    "        next_nodes = []\n",
    "        for direction in ['right', 'left', 'up', 'down']:\n",
    "            # new_field = [row[:] for row in self.field]\n",
    "            current_pos = self.x_pos, self.y_pos\n",
    "            pacman = PacMan(self.field, self.x_pos, self.y_pos, direction)\n",
    "            pacman.move()\n",
    "\n",
    "            if prune and pacman.x_pos == current_pos[0] and pacman.y_pos == current_pos[1]:\n",
    "                continue\n",
    "\n",
    "            new_field = pacman.field\n",
    "            if reference_field[current_pos[0]][current_pos[1]] == 1:\n",
    "                new_field[current_pos[0]][current_pos[1]] = 1\n",
    "\n",
    "            next_nodes.append(\n",
    "                Node(new_field, self, pacman.x_pos, pacman.y_pos, self.depth + 1))\n",
    "        return next_nodes\n",
    "\n",
    "    def get_state_key(self):\n",
    "        return str(self.field), self.x_pos, self.y_pos\n",
    "\n",
    "    def am_i_goal(self):\n",
    "        for row in self.field:\n",
    "            if 1 in row:\n",
    "                return False\n",
    "        return True\n",
    "\n",
    "    def distance_to_nearest_food(self):\n",
    "        queue = [(self.x_pos, self.y_pos, 0)]\n",
    "        visited = []\n",
    "\n",
    "        while len(queue) > 0:\n",
    "            x, y, dist = queue.pop(0)\n",
    "\n",
    "            already_visited = False\n",
    "            for vx, vy in visited:\n",
    "                if vx == x and vy == y:\n",
    "                    already_visited = True\n",
    "                    break\n",
    "            if already_visited:\n",
    "                continue\n",
    "\n",
    "            visited.append((x, y))\n",
    "\n",
    "            if self.field[y][x] == 1:\n",
    "                return dist\n",
    "\n",
    "            for dx, dy in [(0, 1), (1, 0), (0, -1), (-1, 0)]:\n",
    "                nx = x + dx\n",
    "                ny = y + dy\n",
    "\n",
    "                if 0 <= nx < len(self.field[0]) and 0 <= ny < len(self.field):\n",
    "                    if self.field[ny][nx] != 2:\n",
    "                        queue.append((nx, ny, dist + 1))\n",
    "\n",
    "        return float('inf')\n",
    "\n",
    "    def __str__(self):\n",
    "        return f\"({self.x_pos}, {self.y_pos})\""
   ]
  },
  {
   "cell_type": "markdown",
   "id": "6d3c7e48",
   "metadata": {},
   "source": [
    "# Testes inicias do PacMan"
   ]
  },
  {
   "cell_type": "markdown",
   "id": "89f2f844",
   "metadata": {},
   "source": [
    "## Teste unitário de geração de novos nodos"
   ]
  },
  {
   "cell_type": "code",
   "execution_count": 38,
   "id": "89d61263",
   "metadata": {},
   "outputs": [
    {
     "name": "stdout",
     "output_type": "stream",
     "text": [
      "Node at (1, 0)\n",
      "Node at (0, 0)\n",
      "Node at (0, 0)\n",
      "Node at (0, 1)\n"
     ]
    }
   ],
   "source": [
    "field = [ # 0 = empty, 1 = food, 2 = wall, 3 = pacman\n",
    "  [3, 1, 1, 1],\n",
    "  [0, 2, 2, 1],\n",
    "  [0, 1, 2, 1],\n",
    "  [0, 0, 0, 1],\n",
    "]\n",
    "\n",
    "pacman = PacMan(field, 0, 0, 'right')\n",
    "\n",
    "node1 = Node(field, None, pacman.x_pos, pacman.y_pos)\n",
    "next_nodes = node1.generate_next_nodes()\n",
    "\n",
    "for node in next_nodes:\n",
    "  print(node)  \n"
   ]
  },
  {
   "cell_type": "markdown",
   "id": "731f1ab3",
   "metadata": {},
   "source": [
    "## Teste de movimentação do PacMan"
   ]
  },
  {
   "cell_type": "code",
   "execution_count": null,
   "id": "fedb9788",
   "metadata": {},
   "outputs": [
    {
     "name": "stdout",
     "output_type": "stream",
     "text": [
      "Current field:\n",
      "[3, 1, 1, 1]\n",
      "[0, 2, 2, 1]\n",
      "[0, 1, 2, 1]\n",
      "[0, 0, 0, 1]\n",
      "PacMan is at (1, 0)\n",
      "Current field:\n",
      "[0, 3, 1, 1]\n",
      "[0, 2, 2, 1]\n",
      "[0, 1, 2, 1]\n",
      "[0, 0, 0, 1]\n",
      "PacMan is at (2, 0)\n",
      "Current field:\n",
      "[0, 0, 3, 1]\n",
      "[0, 2, 2, 1]\n",
      "[0, 1, 2, 1]\n",
      "[0, 0, 0, 1]\n",
      "PacMan is at (3, 0)\n",
      "Current field:\n",
      "[0, 0, 0, 3]\n",
      "[0, 2, 2, 1]\n",
      "[0, 1, 2, 1]\n",
      "[0, 0, 0, 1]\n",
      "PacMan is at (3, 0)\n",
      "Current field:\n",
      "[0, 0, 0, 0]\n",
      "[0, 2, 2, 1]\n",
      "[0, 1, 2, 1]\n",
      "[0, 0, 0, 1]\n"
     ]
    }
   ],
   "source": [
    "ok = True\n",
    "pacman = PacMan(field=field)\n",
    "\n",
    "while ok:\n",
    "  print(\"Current field:\")\n",
    "  for row in field:\n",
    "    print(row)\n",
    "\n",
    "  command = input(\"Enter command (up, down, left, right) or 'exit' to quit: \").strip().lower()\n",
    "\n",
    "  if command == 'exit':\n",
    "    ok = False\n",
    "  elif command in ['up', 'down', 'left', 'right']:\n",
    "    pacman.direction = command\n",
    "    pacman.move()\n",
    "    print(pacman)\n",
    "  else:\n",
    "    print(\"Invalid command. Please try again.\")"
   ]
  },
  {
   "cell_type": "markdown",
   "id": "4dfcba73",
   "metadata": {},
   "source": [
    "# Busca em largura"
   ]
  },
  {
   "cell_type": "code",
   "execution_count": 3,
   "id": "f00cb48c",
   "metadata": {},
   "outputs": [],
   "source": [
    "def busca_em_largura(inicial_node, prune=False, debug=False):\n",
    "    iterations = 0\n",
    "    current_nodes = [inicial_node]\n",
    "    visited = []\n",
    "\n",
    "    while len(current_nodes) > 0:\n",
    "        this_node = current_nodes.pop(0)\n",
    "\n",
    "        if prune:\n",
    "            current_state = (tuple(map(tuple, this_node.field)),\n",
    "                             this_node.x_pos, this_node.y_pos)\n",
    "            if current_state in visited:\n",
    "                continue\n",
    "            visited.append(current_state)\n",
    "\n",
    "        if this_node.am_i_goal():\n",
    "            return this_node, iterations\n",
    "\n",
    "        next_nodes = this_node.generate_next_nodes()\n",
    "        current_nodes.extend(next_nodes)\n",
    "\n",
    "        if debug:\n",
    "            for node in current_nodes:\n",
    "                print(node)\n",
    "            print('---------------')\n",
    "\n",
    "        iterations += 1\n",
    "\n",
    "    return None, iterations"
   ]
  },
  {
   "cell_type": "code",
   "execution_count": 10,
   "id": "7bfe3334",
   "metadata": {},
   "outputs": [],
   "source": [
    "def pac_man_com_busca(nodo_final, iterations, debug=False):\n",
    "  print(f\"Number of iterations: {iterations}\\n\")\n",
    "\n",
    "  if not nodo_final:\n",
    "    print(\"Pacman could not find food\")\n",
    "    print(\"Iterations: \", iterations)\n",
    "    return\n",
    "\n",
    "  # Print todos os nodos pais até o nodo inicial\n",
    "  nodo_atual = nodo_final\n",
    "  while nodo_atual.father is not None:\n",
    "    this_field = nodo_atual.field\n",
    "    if debug:\n",
    "      for row in this_field:\n",
    "        print(row)\n",
    "      print(\"\\n\")\n",
    "    nodo_atual = nodo_atual.father\n",
    "  if debug:\n",
    "    print(nodo_atual) # nodo inicial\n",
    "    print(\"Final node reached\")\n",
    "  \n",
    "  return"
   ]
  },
  {
   "cell_type": "markdown",
   "id": "0284b2ed",
   "metadata": {},
   "source": [
    "## Teste com campo simples sem poda"
   ]
  },
  {
   "cell_type": "code",
   "execution_count": 15,
   "id": "257c8f05",
   "metadata": {},
   "outputs": [
    {
     "name": "stdout",
     "output_type": "stream",
     "text": [
      "Number of iterations: 804\n",
      "\n"
     ]
    }
   ],
   "source": [
    "nodo_final, iterations = busca_em_largura(Node(field_easy, None, 0, 0), False)\n",
    "pac_man_com_busca(nodo_final, iterations, False)"
   ]
  },
  {
   "cell_type": "markdown",
   "id": "3d941041",
   "metadata": {},
   "source": [
    "## Teste com campo simples com poda"
   ]
  },
  {
   "cell_type": "code",
   "execution_count": 11,
   "id": "e9560bd8",
   "metadata": {},
   "outputs": [
    {
     "name": "stdout",
     "output_type": "stream",
     "text": [
      "Number of iterations: 73\n",
      "\n"
     ]
    }
   ],
   "source": [
    "nodo_final, iterations = busca_em_largura(Node(field_easy, None, 0, 0), True)\n",
    "pac_man_com_busca(nodo_final, iterations, False)"
   ]
  },
  {
   "cell_type": "markdown",
   "id": "1570f2b6",
   "metadata": {},
   "source": [
    "## Teste com todos os campos com poda"
   ]
  },
  {
   "cell_type": "code",
   "execution_count": null,
   "id": "13cac3a5",
   "metadata": {},
   "outputs": [
    {
     "name": "stdout",
     "output_type": "stream",
     "text": [
      "Field 1: 73 iterations\n",
      "Field 2: 1175 iterations\n",
      "Field 3: 11465 iterations\n",
      "Field 4: 17126 iterations\n",
      "Média: 7459.75\n"
     ]
    }
   ],
   "source": [
    "iterações = []\n",
    "\n",
    "for index, field in enumerate(fields):\n",
    "  nodo_final, iterations = busca_em_largura(Node(field, None, 0, 0), True)\n",
    "  iterações.append(iterations)\n",
    "  print(f\"Field {index + 1}: {iterations} iterations\")"
   ]
  },
  {
   "cell_type": "markdown",
   "id": "d2205997",
   "metadata": {},
   "source": [
    "# Busca em profundidade"
   ]
  },
  {
   "cell_type": "code",
   "execution_count": 17,
   "id": "ece8fd4b",
   "metadata": {},
   "outputs": [],
   "source": [
    "def busca_em_profundidade(initial_node, m, prune=False, debug=False):\n",
    "    iterations = 0\n",
    "    current_nodes = [initial_node]\n",
    "    visited = []\n",
    "\n",
    "    while len(current_nodes) > 0:\n",
    "        this_node = current_nodes.pop()\n",
    "\n",
    "        if prune:\n",
    "            current_state = (tuple(map(tuple, this_node.field)),\n",
    "                             this_node.x_pos, this_node.y_pos)\n",
    "            if current_state in visited:\n",
    "                continue\n",
    "            visited.append(current_state)\n",
    "\n",
    "        if this_node.am_i_goal():\n",
    "            return this_node, iterations\n",
    "\n",
    "        if this_node.depth < m:\n",
    "            next_nodes = this_node.generate_next_nodes(prune=True)\n",
    "            current_nodes = next_nodes + current_nodes  # Depth-first behavior\n",
    "\n",
    "        if debug:\n",
    "            for node in current_nodes:\n",
    "                print(node)\n",
    "            print('---------------')\n",
    "\n",
    "        iterations += 1\n",
    "\n",
    "    return None, iterations"
   ]
  },
  {
   "cell_type": "markdown",
   "id": "a8030f57",
   "metadata": {},
   "source": [
    "## Teste com campo simples sem poda"
   ]
  },
  {
   "cell_type": "code",
   "execution_count": 20,
   "id": "4acc72f7",
   "metadata": {},
   "outputs": [
    {
     "name": "stdout",
     "output_type": "stream",
     "text": [
      "Number of iterations: 1880\n",
      "\n"
     ]
    }
   ],
   "source": [
    "nodo_final, iterations = busca_em_profundidade(Node(field_easy, None, 0, 0), 200, False)\n",
    "pac_man_com_busca(nodo_final, iterations, False)"
   ]
  },
  {
   "cell_type": "markdown",
   "id": "24dadd69",
   "metadata": {},
   "source": [
    "## Teste com campo simples com poda"
   ]
  },
  {
   "cell_type": "code",
   "execution_count": 21,
   "id": "400ede40",
   "metadata": {},
   "outputs": [
    {
     "name": "stdout",
     "output_type": "stream",
     "text": [
      "Number of iterations: 98\n",
      "\n"
     ]
    }
   ],
   "source": [
    "nodo_final, iterations = busca_em_profundidade(Node(field_easy, None, 0, 0), 200, True)\n",
    "pac_man_com_busca(nodo_final, iterations, False)"
   ]
  },
  {
   "cell_type": "markdown",
   "id": "fd93bb6e",
   "metadata": {},
   "source": [
    "## Teste busca em profundidade interativa"
   ]
  },
  {
   "cell_type": "code",
   "execution_count": 26,
   "id": "9d8739fd",
   "metadata": {},
   "outputs": [
    {
     "name": "stdout",
     "output_type": "stream",
     "text": [
      "m: 0 - No solution found; Iterations: 1\n",
      "m: 1 - No solution found; Iterations: 3\n",
      "m: 2 - No solution found; Iterations: 6\n",
      "m: 3 - No solution found; Iterations: 11\n",
      "m: 4 - No solution found; Iterations: 18\n",
      "m: 5 - No solution found; Iterations: 28\n",
      "m: 6 - No solution found; Iterations: 39\n",
      "m: 7 - No solution found; Iterations: 55\n",
      "m: 8 - No solution found; Iterations: 73\n",
      "Number of iterations: 98\n",
      "\n",
      "m: 9 - Solution found; Iterations: 98\n"
     ]
    }
   ],
   "source": [
    "for m in range(20):\n",
    "  nodo_final, iterations = busca_em_profundidade(Node(field_easy, None, 0, 0), m, True)\n",
    "  if nodo_final:\n",
    "    pac_man_com_busca(nodo_final, iterations, False)\n",
    "    print(f\"m: {m} - Solution found; Iterations: {iterations}\")\n",
    "    break\n",
    "  else:\n",
    "    print(f\"m: {m} - No solution found; Iterations: {iterations}\")"
   ]
  },
  {
   "cell_type": "markdown",
   "id": "1dd15a4f",
   "metadata": {},
   "source": [
    "## Teste com todos os campos com poda"
   ]
  },
  {
   "cell_type": "code",
   "execution_count": 25,
   "id": "663100e8",
   "metadata": {},
   "outputs": [
    {
     "name": "stdout",
     "output_type": "stream",
     "text": [
      "- Field 1: 98 iterations\n",
      "- Field 2: 1389 iterations\n",
      "- Field 3: 11367 iterations\n",
      "- Field 4: 15760 iterations\n"
     ]
    }
   ],
   "source": [
    "iterações = []\n",
    "\n",
    "for index, field in enumerate(fields):\n",
    "  nodo_final, iterations = busca_em_profundidade(Node(field, None, 0, 0), 200, True)\n",
    "  iterações.append(iterations)\n",
    "  print(f\"- Field {index + 1}: {iterations} iterations\")"
   ]
  },
  {
   "cell_type": "markdown",
   "id": "e3008958",
   "metadata": {},
   "source": [
    "# Busca bidirecional"
   ]
  },
  {
   "cell_type": "code",
   "execution_count": null,
   "id": "0b39e768",
   "metadata": {},
   "outputs": [],
   "source": [
    "def busca_bidirecional(initial_node, meta_node):\n",
    "    iterations = 0\n",
    "    current_nodes = [initial_node]\n",
    "    current_nodes_meta = [meta_node]\n",
    "\n",
    "    visited = set()\n",
    "    visited_meta = set()\n",
    "\n",
    "    while current_nodes and current_nodes_meta:\n",
    "        current = current_nodes.pop(0)\n",
    "        state_key = current.get_state_key()\n",
    "        if state_key in visited_meta:\n",
    "            return current, iterations\n",
    "        visited.add(state_key)\n",
    "\n",
    "        for neighbor in current.generate_next_nodes(prune=True):\n",
    "            key = neighbor.get_state_key()\n",
    "            if key not in visited:\n",
    "                current_nodes.append(neighbor)\n",
    "\n",
    "        current_meta = current_nodes_meta.pop(0)\n",
    "        state_key_meta = current_meta.get_state_key()\n",
    "        if state_key_meta in visited:\n",
    "            return current_meta, iterations\n",
    "        visited_meta.add(state_key_meta)\n",
    "\n",
    "        for neighbor in current_meta.generate_backtrack_nodes(current.field, prune=True):\n",
    "            key = neighbor.get_state_key()\n",
    "            if key not in visited_meta:\n",
    "                current_nodes_meta.append(neighbor)\n",
    "\n",
    "        iterations += 1\n",
    "\n",
    "    return None, iterations\n"
   ]
  },
  {
   "cell_type": "code",
   "execution_count": 5,
   "id": "d3fa67c2",
   "metadata": {},
   "outputs": [
    {
     "data": {
      "text/plain": [
       "(None, 649)"
      ]
     },
     "execution_count": 4,
     "metadata": {},
     "output_type": "execute_result"
    }
   ],
   "source": [
    "field_easy_done = [\n",
    "  [0, 0, 0, 0],\n",
    "  [0, 2, 2, 0],\n",
    "  [0, 0, 2, 0],\n",
    "  [0, 0, 0, 0],\n",
    "]\n",
    "\n",
    "busca_bidirecional(Node(field_easy, None, 0, 0), Node(field_easy_done, None, 2, 1))"
   ]
  },
  {
   "cell_type": "markdown",
   "id": "764b9a64",
   "metadata": {},
   "source": [
    "# Busca A*"
   ]
  },
  {
   "cell_type": "code",
   "execution_count": null,
   "id": "dff017c0",
   "metadata": {},
   "outputs": [],
   "source": []
  }
 ],
 "metadata": {
  "kernelspec": {
   "display_name": "Python 3",
   "language": "python",
   "name": "python3"
  },
  "language_info": {
   "codemirror_mode": {
    "name": "ipython",
    "version": 3
   },
   "file_extension": ".py",
   "mimetype": "text/x-python",
   "name": "python",
   "nbconvert_exporter": "python",
   "pygments_lexer": "ipython3",
   "version": "3.10.12"
  }
 },
 "nbformat": 4,
 "nbformat_minor": 5
}
