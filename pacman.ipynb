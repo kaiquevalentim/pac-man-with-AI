{
 "cells": [
  {
   "cell_type": "code",
   "execution_count": 1,
   "id": "218c6eb6",
   "metadata": {},
   "outputs": [],
   "source": [
    "field_easy = [ # 0 = empty, 1 = food, 2 = wall, 3 = pacman\n",
    "  [3, 1, 1, 1],\n",
    "  [0, 2, 2, 1],\n",
    "  [0, 1, 2, 1],\n",
    "  [0, 0, 0, 1],\n",
    "]\n",
    "\n",
    "field_medium = [\n",
    "  [3, 1, 1, 2, 1],\n",
    "  [0, 2, 1, 2, 1],\n",
    "  [1, 2, 1, 1, 1],\n",
    "  [1, 1, 2, 2, 1],\n",
    "  [0, 1, 1, 1, 1],\n",
    "]\n",
    "\n",
    "field_hard = [\n",
    "  [3, 2, 1, 1, 2, 1],\n",
    "  [1, 2, 0, 2, 2, 1],\n",
    "  [1, 1, 1, 0, 1, 1],\n",
    "  [2, 2, 1, 2, 1, 2],\n",
    "  [1, 0, 1, 1, 1, 1],\n",
    "  [1, 2, 2, 2, 2, 1],\n",
    "]\n",
    "\n",
    "field_very_hard = [\n",
    "  [3, 2, 1, 2, 1, 2, 1],\n",
    "  [1, 2, 0, 2, 0, 2, 1],\n",
    "  [1, 1, 1, 1, 1, 2, 1],\n",
    "  [2, 2, 2, 2, 1, 2, 1],\n",
    "  [1, 0, 0, 1, 1, 1, 1],\n",
    "  [1, 2, 2, 2, 2, 2, 1],\n",
    "  [1, 1, 1, 1, 1, 1, 1],\n",
    "]\n",
    "\n",
    "fields = [field_easy, field_medium, field_hard, field_very_hard]  "
   ]
  },
  {
   "cell_type": "markdown",
   "id": "5caa7962",
   "metadata": {},
   "source": [
    "# Definição de classes"
   ]
  },
  {
   "cell_type": "code",
   "execution_count": 2,
   "id": "92baba9e",
   "metadata": {},
   "outputs": [],
   "source": [
    "class PacMan:\n",
    "  def __init__(self, field, x_pos=0, y_pos=0, direction='right'):\n",
    "    self.x_pos = x_pos\n",
    "    self.y_pos = y_pos\n",
    "    self.direction = direction\n",
    "    self.field = field\n",
    "\n",
    "  def move(self):\n",
    "    self.field[self.y_pos][self.x_pos] = 0\n",
    "\n",
    "    if self.direction == 'right' and self.x_pos + 1 < len(self.field[0]):\n",
    "        if self.field[self.y_pos][self.x_pos + 1] != 2:\n",
    "            self.x_pos += 1\n",
    "    elif self.direction == 'left' and self.x_pos - 1 >= 0 :\n",
    "        if self.field[self.y_pos][self.x_pos - 1] != 2:\n",
    "            self.x_pos -= 1\n",
    "    elif self.direction == 'up' and self.y_pos - 1 >= 0 :\n",
    "        if self.field[self.y_pos - 1][self.x_pos] != 2:\n",
    "            self.y_pos -= 1\n",
    "    elif self.direction == 'down' and self.y_pos + 1 < len(self.field):\n",
    "        if self.field[self.y_pos + 1][self.x_pos] != 2:\n",
    "            self.y_pos += 1\n",
    "\n",
    "    has_food = self.field[self.y_pos][self.x_pos] == 1\n",
    "\n",
    "    self.field[self.y_pos][self.x_pos] = 3\n",
    "\n",
    "    return has_food\n",
    "\n",
    "  def __str__(self):\n",
    "    return f\"PacMan is at ({self.x_pos}, {self.y_pos})\"\n",
    "\n",
    "class Node:\n",
    "  def __init__(self, field, father, x_pos, y_pos):\n",
    "    self.field = field\n",
    "    self.father = father\n",
    "    self.x_pos = x_pos\n",
    "    self.y_pos = y_pos\n",
    "    \n",
    "  def generate_next_nodes(self):\n",
    "    next_nodes = []\n",
    "    for direction in ['right', 'left', 'up', 'down']:\n",
    "      new_field = [row[:] for row in self.field]\n",
    "      current_pos = self.x_pos, self.y_pos\n",
    "      pacman = PacMan(new_field, self.x_pos, self.y_pos, direction)\n",
    "      has_food = pacman.move()\n",
    "\n",
    "      if pacman.x_pos == current_pos[0] and pacman.y_pos == current_pos[1]:\n",
    "        continue\n",
    "\n",
    "      new_field = pacman.field\n",
    "      if has_food:\n",
    "         next_nodes.insert(0, Node(new_field, self, pacman.x_pos, pacman.y_pos))\n",
    "      else:\n",
    "         next_nodes.append(Node(new_field, self, pacman.x_pos, pacman.y_pos))\n",
    "    return next_nodes\n",
    "\n",
    "  def am_i_goal(self):\n",
    "    for row in self.field:\n",
    "      if 1 in row:\n",
    "        return False\n",
    "    return True\n",
    "\n",
    "  def __str__(self):\n",
    "    return f\"({self.x_pos}, {self.y_pos})\"\n",
    "\n",
    "    "
   ]
  },
  {
   "cell_type": "markdown",
   "id": "89f2f844",
   "metadata": {},
   "source": [
    "# Teste unitário de geração de novos nodos"
   ]
  },
  {
   "cell_type": "code",
   "execution_count": 38,
   "id": "89d61263",
   "metadata": {},
   "outputs": [
    {
     "name": "stdout",
     "output_type": "stream",
     "text": [
      "Node at (1, 0)\n",
      "Node at (0, 0)\n",
      "Node at (0, 0)\n",
      "Node at (0, 1)\n"
     ]
    }
   ],
   "source": [
    "field = [ # 0 = empty, 1 = food, 2 = wall, 3 = pacman\n",
    "  [3, 1, 1, 1],\n",
    "  [0, 2, 2, 1],\n",
    "  [0, 1, 2, 1],\n",
    "  [0, 0, 0, 1],\n",
    "]\n",
    "\n",
    "pacman = PacMan(field, 0, 0, 'right')\n",
    "\n",
    "node1 = Node(field, None, pacman.x_pos, pacman.y_pos)\n",
    "next_nodes = node1.generate_next_nodes()\n",
    "\n",
    "for node in next_nodes:\n",
    "  print(node)  \n"
   ]
  },
  {
   "cell_type": "markdown",
   "id": "731f1ab3",
   "metadata": {},
   "source": [
    "# Teste de movimentação do PacMan"
   ]
  },
  {
   "cell_type": "code",
   "execution_count": null,
   "id": "fedb9788",
   "metadata": {},
   "outputs": [
    {
     "name": "stdout",
     "output_type": "stream",
     "text": [
      "Current field:\n",
      "[3, 1, 1, 1]\n",
      "[0, 2, 2, 1]\n",
      "[0, 1, 2, 1]\n",
      "[0, 0, 0, 1]\n",
      "PacMan is at (1, 0)\n",
      "Current field:\n",
      "[0, 3, 1, 1]\n",
      "[0, 2, 2, 1]\n",
      "[0, 1, 2, 1]\n",
      "[0, 0, 0, 1]\n",
      "PacMan is at (2, 0)\n",
      "Current field:\n",
      "[0, 0, 3, 1]\n",
      "[0, 2, 2, 1]\n",
      "[0, 1, 2, 1]\n",
      "[0, 0, 0, 1]\n",
      "PacMan is at (3, 0)\n",
      "Current field:\n",
      "[0, 0, 0, 3]\n",
      "[0, 2, 2, 1]\n",
      "[0, 1, 2, 1]\n",
      "[0, 0, 0, 1]\n",
      "PacMan is at (3, 0)\n",
      "Current field:\n",
      "[0, 0, 0, 0]\n",
      "[0, 2, 2, 1]\n",
      "[0, 1, 2, 1]\n",
      "[0, 0, 0, 1]\n"
     ]
    }
   ],
   "source": [
    "ok = True\n",
    "pacman = PacMan(field=field)\n",
    "\n",
    "while ok:\n",
    "  print(\"Current field:\")\n",
    "  for row in field:\n",
    "    print(row)\n",
    "\n",
    "  command = input(\"Enter command (up, down, left, right) or 'exit' to quit: \").strip().lower()\n",
    "\n",
    "  if command == 'exit':\n",
    "    ok = False\n",
    "  elif command in ['up', 'down', 'left', 'right']:\n",
    "    pacman.direction = command\n",
    "    pacman.move()\n",
    "    print(pacman)\n",
    "  else:\n",
    "    print(\"Invalid command. Please try again.\")"
   ]
  },
  {
   "cell_type": "markdown",
   "id": "4dfcba73",
   "metadata": {},
   "source": [
    "# Busca em largura"
   ]
  },
  {
   "cell_type": "code",
   "execution_count": 24,
   "id": "f00cb48c",
   "metadata": {},
   "outputs": [],
   "source": [
    "def busca_em_largura(field, x_init, y_init, debug=False):\n",
    "  iterations = 0\n",
    "  current_nodes = [Node(field, None, x_init, y_init)]\n",
    "\n",
    "  while len(current_nodes) > 0:\n",
    "    this_node = current_nodes.pop(0)\n",
    "    if this_node.am_i_goal():\n",
    "      return this_node, iterations\n",
    "\n",
    "    next_nodes = this_node.generate_next_nodes()\n",
    "    current_nodes.extend(next_nodes)\n",
    "\n",
    "    if debug:\n",
    "      for node in current_nodes:\n",
    "        print(node)\n",
    "      print('---------------')\n",
    "\n",
    "    iterations += 1\n"
   ]
  },
  {
   "cell_type": "code",
   "execution_count": 26,
   "id": "7bfe3334",
   "metadata": {},
   "outputs": [],
   "source": [
    "def pac_man_com_busca_em_largura(field, debug=False):\n",
    "  nodo_final, iterações = busca_em_largura(field, 0, 0, debug)\n",
    "\n",
    "  print(f\"Number of iterations: {iterações}\\n\")\n",
    "\n",
    "  # Print todos os nodos pais até o nodo inicial\n",
    "  nodo_atual = nodo_final\n",
    "  while nodo_atual.father is not None:\n",
    "    this_field = nodo_atual.field\n",
    "    if debug:\n",
    "      for row in this_field:\n",
    "        print(row)\n",
    "      print(\"\\n\")\n",
    "    nodo_atual = nodo_atual.father\n",
    "  if debug:\n",
    "    print(nodo_atual) # nodo inicial\n",
    "    print(\"Final node reached\")\n",
    "  \n",
    "  return iterações"
   ]
  },
  {
   "cell_type": "code",
   "execution_count": 28,
   "id": "e9560bd8",
   "metadata": {},
   "outputs": [
    {
     "name": "stdout",
     "output_type": "stream",
     "text": [
      "Number of iterations: 854691\n",
      "\n"
     ]
    },
    {
     "data": {
      "text/plain": [
       "854691"
      ]
     },
     "execution_count": 28,
     "metadata": {},
     "output_type": "execute_result"
    }
   ],
   "source": [
    "pac_man_com_busca_em_largura(field_medium)"
   ]
  },
  {
   "cell_type": "code",
   "execution_count": 11,
   "id": "13cac3a5",
   "metadata": {},
   "outputs": [
    {
     "name": "stdout",
     "output_type": "stream",
     "text": [
      "Number of iterations: 804\n",
      "\n"
     ]
    },
    {
     "ename": "KeyboardInterrupt",
     "evalue": "",
     "output_type": "error",
     "traceback": [
      "\u001b[0;31m---------------------------------------------------------------------------\u001b[0m",
      "\u001b[0;31mKeyboardInterrupt\u001b[0m                         Traceback (most recent call last)",
      "Cell \u001b[0;32mIn[11], line 4\u001b[0m\n\u001b[1;32m      1\u001b[0m iterações \u001b[38;5;241m=\u001b[39m []\n\u001b[1;32m      3\u001b[0m \u001b[38;5;28;01mfor\u001b[39;00m index, field \u001b[38;5;129;01min\u001b[39;00m \u001b[38;5;28menumerate\u001b[39m(fields):\n\u001b[0;32m----> 4\u001b[0m   iterações\u001b[38;5;241m.\u001b[39mappend(\u001b[43mpac_man_com_busca_em_largura\u001b[49m\u001b[43m(\u001b[49m\u001b[43mfield\u001b[49m\u001b[43m,\u001b[49m\u001b[43m \u001b[49m\u001b[43mdebug\u001b[49m\u001b[38;5;241;43m=\u001b[39;49m\u001b[38;5;28;43;01mFalse\u001b[39;49;00m\u001b[43m)\u001b[49m)\n\u001b[1;32m      5\u001b[0m \u001b[38;5;28mprint\u001b[39m(\u001b[38;5;124mf\u001b[39m\u001b[38;5;124m\"\u001b[39m\u001b[38;5;124mMédia: \u001b[39m\u001b[38;5;132;01m{\u001b[39;00m\u001b[38;5;28msum\u001b[39m(iterações)\u001b[38;5;241m/\u001b[39m\u001b[38;5;28mlen\u001b[39m(iterações)\u001b[38;5;132;01m}\u001b[39;00m\u001b[38;5;124m\"\u001b[39m)\n",
      "Cell \u001b[0;32mIn[6], line 2\u001b[0m, in \u001b[0;36mpac_man_com_busca_em_largura\u001b[0;34m(field, debug)\u001b[0m\n\u001b[1;32m      1\u001b[0m \u001b[38;5;28;01mdef\u001b[39;00m \u001b[38;5;21mpac_man_com_busca_em_largura\u001b[39m(field, debug\u001b[38;5;241m=\u001b[39m\u001b[38;5;28;01mFalse\u001b[39;00m):\n\u001b[0;32m----> 2\u001b[0m   nodo_final, iterações \u001b[38;5;241m=\u001b[39m \u001b[43mbusca_em_largura\u001b[49m\u001b[43m(\u001b[49m\u001b[43mfield\u001b[49m\u001b[43m,\u001b[49m\u001b[43m \u001b[49m\u001b[38;5;241;43m0\u001b[39;49m\u001b[43m,\u001b[49m\u001b[43m \u001b[49m\u001b[38;5;241;43m0\u001b[39;49m\u001b[43m)\u001b[49m\n\u001b[1;32m      4\u001b[0m   \u001b[38;5;28mprint\u001b[39m(\u001b[38;5;124mf\u001b[39m\u001b[38;5;124m\"\u001b[39m\u001b[38;5;124mNumber of iterations: \u001b[39m\u001b[38;5;132;01m{\u001b[39;00miterações\u001b[38;5;132;01m}\u001b[39;00m\u001b[38;5;130;01m\\n\u001b[39;00m\u001b[38;5;124m\"\u001b[39m)\n\u001b[1;32m      6\u001b[0m   \u001b[38;5;66;03m# Print todos os nodos pais até o nodo inicial\u001b[39;00m\n",
      "Cell \u001b[0;32mIn[5], line 6\u001b[0m, in \u001b[0;36mbusca_em_largura\u001b[0;34m(field, x_init, y_init)\u001b[0m\n\u001b[1;32m      3\u001b[0m current_nodes \u001b[38;5;241m=\u001b[39m [Node(field, \u001b[38;5;28;01mNone\u001b[39;00m, x_init, y_init)]\n\u001b[1;32m      5\u001b[0m \u001b[38;5;28;01mwhile\u001b[39;00m \u001b[38;5;28mlen\u001b[39m(current_nodes) \u001b[38;5;241m>\u001b[39m \u001b[38;5;241m0\u001b[39m:\n\u001b[0;32m----> 6\u001b[0m   this_node \u001b[38;5;241m=\u001b[39m \u001b[43mcurrent_nodes\u001b[49m\u001b[38;5;241;43m.\u001b[39;49m\u001b[43mpop\u001b[49m\u001b[43m(\u001b[49m\u001b[38;5;241;43m0\u001b[39;49m\u001b[43m)\u001b[49m\n\u001b[1;32m      7\u001b[0m   \u001b[38;5;28;01mif\u001b[39;00m this_node\u001b[38;5;241m.\u001b[39mam_i_goal():\n\u001b[1;32m      8\u001b[0m     \u001b[38;5;28;01mreturn\u001b[39;00m this_node, iterations\n",
      "\u001b[0;31mKeyboardInterrupt\u001b[0m: "
     ]
    }
   ],
   "source": [
    "iterações = []\n",
    "\n",
    "for index, field in enumerate(fields):\n",
    "  iterações.append(pac_man_com_busca_em_largura(field, debug=False))\n",
    "print(f\"Média: {sum(iterações)/len(iterações)}\")"
   ]
  },
  {
   "cell_type": "markdown",
   "id": "d2205997",
   "metadata": {},
   "source": [
    "# Busca em profundidade"
   ]
  },
  {
   "cell_type": "code",
   "execution_count": null,
   "id": "57fc1db9",
   "metadata": {},
   "outputs": [],
   "source": []
  }
 ],
 "metadata": {
  "kernelspec": {
   "display_name": "Python 3",
   "language": "python",
   "name": "python3"
  },
  "language_info": {
   "codemirror_mode": {
    "name": "ipython",
    "version": 3
   },
   "file_extension": ".py",
   "mimetype": "text/x-python",
   "name": "python",
   "nbconvert_exporter": "python",
   "pygments_lexer": "ipython3",
   "version": "3.10.12"
  }
 },
 "nbformat": 4,
 "nbformat_minor": 5
}
