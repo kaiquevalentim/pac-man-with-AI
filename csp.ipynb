{
 "cells": [
  {
   "cell_type": "code",
   "execution_count": null,
   "id": "b140914d",
   "metadata": {},
   "outputs": [],
   "source": [
    "# Start here"
   ]
  }
 ],
 "metadata": {
  "language_info": {
   "name": "python"
  }
 },
 "nbformat": 4,
 "nbformat_minor": 5
}
